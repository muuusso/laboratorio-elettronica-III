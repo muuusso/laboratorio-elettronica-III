{
 "cells": [
  {
   "cell_type": "code",
   "execution_count": 1,
   "metadata": {},
   "outputs": [],
   "source": [
    "from IPython.display import Latex\n",
    "\n",
    "from matplotlib.backends.backend_pdf import PdfPages\n",
    "import matplotlib.pyplot as plt\n",
    "import numpy as np\n",
    "import pandas as pd\n",
    "from scipy.optimize import curve_fit\n",
    "\n",
    "R = 9.8e3\n",
    "l = np.array([0, 10, 20, 30, 40])\n",
    "f = lambda t, v_0, A, tau: v_0 + A*np.exp(-t/tau)\n",
    "\n",
    "pp = PdfPages('multipage.pdf')"
   ]
  },
  {
   "cell_type": "code",
   "execution_count": 2,
   "metadata": {},
   "outputs": [
    {
     "name": "stderr",
     "output_type": "stream",
     "text": [
      "/home/musso/.local/lib/python3.6/site-packages/ipykernel_launcher.py:11: RuntimeWarning: overflow encountered in exp\n",
      "  # This is added back by InteractiveShellApp.init_path()\n",
      "/home/musso/.local/lib/python3.6/site-packages/ipykernel_launcher.py:11: RuntimeWarning: overflow encountered in multiply\n",
      "  # This is added back by InteractiveShellApp.init_path()\n"
     ]
    },
    {
     "data": {
      "image/png": "[encoded data removed]",
      "text/plain": [
       "<Figure size 576x432 with 1 Axes>"
      ]
     },
     "metadata": {
      "needs_background": "light"
     },
     "output_type": "display_data"
    },
    {
     "data": {
      "text/latex": [
       "$C' = (99.9 \\pm 0.3)$ pF"
      ],
      "text/plain": [
       "<IPython.core.display.Latex object>"
      ]
     },
     "metadata": {},
     "output_type": "display_data"
    },
    {
     "data": {
      "text/latex": [
       "$C_0 = (10.01 \\pm 0.01)$ nF"
      ],
      "text/plain": [
       "<IPython.core.display.Latex object>"
      ]
     },
     "metadata": {},
     "output_type": "display_data"
    }
   ],
   "source": [
    "plt.rcParams['figure.figsize'] = (8,6)\n",
    "\n",
    "tau = []\n",
    "delta_tau = []\n",
    "for i in range(5):\n",
    "    tau_ = []\n",
    "    for j in range(5):\n",
    "        df = pd.read_csv(f'data/c_{i*5+j}.csv', skiprows=1).dropna()\n",
    "        x = df.second.values\n",
    "        y = df['Volt.1'].values\n",
    "        popt, pcov = curve_fit(f, x, y)\n",
    "        tau_.append(popt[2])\n",
    "    tau.append(np.mean(tau_)*1e3)\n",
    "    delta_tau.append(np.std(tau_)*1e3)\n",
    "\n",
    "g = lambda l, c_0, c_prime: c_0 + c_prime*l\n",
    "popt, pcov = curve_fit(g, l, np.array(tau)/R)\n",
    "perr = np.sqrt(np.diag(pcov))\n",
    "\n",
    "plt.errorbar(l, np.array(tau)/R*1e6, yerr=np.array(delta_tau)/R*1e6, fmt='.', ms=10)\n",
    "plt.plot(l, g(l, *popt)*1e6, color='r')\n",
    "plt.title('$\\mathbf{C\\ (\\ell)}$', fontsize=20)\n",
    "plt.xlabel('$\\\\ell$ [m]', fontsize=16)\n",
    "plt.ylabel('C [nF]', fontsize=16)\n",
    "plt.grid()\n",
    "pp.savefig()\n",
    "plt.show()\n",
    "\n",
    "display(Latex(f'$C\\' = ({popt[1]*1e9:.1f} \\pm {perr[1]*1e9:.1f})$ pF'))\n",
    "display(Latex(f'$C_0 = ({popt[0]*1e6:.2f} \\pm {perr[0]*1e6:.2f})$ nF'))"
   ]
  },
  {
   "cell_type": "code",
   "execution_count": 3,
   "metadata": {},
   "outputs": [
    {
     "data": {
      "image/png": "[encoded data removed]",
      "text/plain": [
       "<Figure size 576x432 with 1 Axes>"
      ]
     },
     "metadata": {
      "needs_background": "light"
     },
     "output_type": "display_data"
    },
    {
     "data": {
      "text/latex": [
       "$L' = (0.239 \\pm 0.008)\\ \\frac{\\mu H}{m}$"
      ],
      "text/plain": [
       "<IPython.core.display.Latex object>"
      ]
     },
     "metadata": {},
     "output_type": "display_data"
    },
    {
     "data": {
      "text/latex": [
       "$L_0 = (98.4 \\pm 0.2)\\ \\mu H$"
      ],
      "text/plain": [
       "<IPython.core.display.Latex object>"
      ]
     },
     "metadata": {},
     "output_type": "display_data"
    }
   ],
   "source": [
    "plt.rcParams['figure.figsize'] = (8,6)\n",
    "\n",
    "tau = []\n",
    "delta_tau = []\n",
    "for i in range(5):\n",
    "    tau_ = []\n",
    "    for j in range(5):\n",
    "        df = pd.read_csv(f'data/l_{i*5+j}.csv', skiprows=1).dropna()\n",
    "        x = df.second.values\n",
    "        y = df['Volt.1'].values\n",
    "        popt, pcov = curve_fit(f, x, y, p0=[1,1,1e-6])\n",
    "        tau_.append(popt[2])\n",
    "    tau.append(np.mean(tau_)*1e3)\n",
    "    delta_tau.append(np.std(tau_)*1e3)\n",
    "\n",
    "R_l = 97\n",
    "g = lambda l, L_0, L_prime: L_0 + L_prime*l\n",
    "popt, pcov = curve_fit(g, l, np.array(tau)*R_l)\n",
    "perr = np.sqrt(np.diag(pcov))\n",
    "\n",
    "plt.errorbar(l, np.array(tau)*R_l*1e3, yerr=np.array(delta_tau)*R_l*1e3, fmt='.', ms=10)\n",
    "plt.plot(l, g(l, *popt)*1e3, color='r')\n",
    "plt.title('$\\mathbf{L\\ (\\ell)}$', fontsize=20)\n",
    "plt.xlabel('$\\\\ell$ [m]', fontsize=16)\n",
    "plt.ylabel('L [$\\mu$H]', fontsize=16)\n",
    "plt.grid()\n",
    "pp.savefig()\n",
    "plt.show()\n",
    "\n",
    "display(Latex(f'$L\\' = ({popt[1]*1e3:.3f} \\pm {perr[1]*1e3:.3f})\\ \\\\frac{{\\mu H}}{{m}}$'))\n",
    "display(Latex(f'$L_0 = ({popt[0]*1e3:.1f} \\pm {perr[0]*1e3:.1f})\\ \\mu H$'))"
   ]
  },
  {
   "cell_type": "code",
   "execution_count": 4,
   "metadata": {},
   "outputs": [],
   "source": [
    "pp.close()"
   ]
  }
 ],
 "metadata": {
  "kernelspec": {
   "display_name": "Python 3",
   "language": "python",
   "name": "python3"
  },
  "language_info": {
   "codemirror_mode": {
    "name": "ipython",
    "version": 3
   },
   "file_extension": ".py",
   "mimetype": "text/x-python",
   "name": "python",
   "nbconvert_exporter": "python",
   "pygments_lexer": "ipython3",
   "version": "3.6.8"
  }
 },
 "nbformat": 4,
 "nbformat_minor": 2
}
